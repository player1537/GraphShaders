{
 "cells": [
  {
   "cell_type": "code",
   "execution_count": 1,
   "id": "beaa6c05",
   "metadata": {},
   "outputs": [],
   "source": [
    "from __future__ import annotations\n",
    "try:\n",
    "    from mediocreatbest import auto, run\n",
    "except ImportError:\n",
    "    %pip install --user --upgrade pip\n",
    "    %pip install --user --upgrade --force-reinstall \\\n",
    "        git+https://gist.github.com/player1537/3457b026ed6ef6696d758517f55a58df#egg=mediocreatbest[jupyter]\n",
    "    from mediocreatbest import auto, run\n"
   ]
  },
  {
   "cell_type": "code",
   "execution_count": 25,
   "id": "34c0849b",
   "metadata": {
    "scrolled": true
   },
   "outputs": [
    {
     "name": "stdout",
     "output_type": "stream",
     "text": [
      "181M\t/mnt/seenas2/data/_backup_sinai/home/thobson2/src/GraphShaders/examples/NBER-Patents/data/NBER-Patents.edge.element.2u32.bin\r\n",
      "13M\t/mnt/seenas2/data/_backup_sinai/home/thobson2/src/GraphShaders/examples/NBER-Patents/data/NBER-Patents.node.appyear.u32.bin\r\n",
      "13M\t/mnt/seenas2/data/_backup_sinai/home/thobson2/src/GraphShaders/examples/NBER-Patents/data/NBER-Patents.node.cat1.u32.bin\r\n",
      "13M\t/mnt/seenas2/data/_backup_sinai/home/thobson2/src/GraphShaders/examples/NBER-Patents/data/NBER-Patents.node.cat2.u32.bin\r\n",
      "13M\t/mnt/seenas2/data/_backup_sinai/home/thobson2/src/GraphShaders/examples/NBER-Patents/data/NBER-Patents.node.gotyear.u32.bin\r\n",
      "13M\t/mnt/seenas2/data/_backup_sinai/home/thobson2/src/GraphShaders/examples/NBER-Patents/data/NBER-Patents.node.x.f32.bin\r\n",
      "13M\t/mnt/seenas2/data/_backup_sinai/home/thobson2/src/GraphShaders/examples/NBER-Patents/data/NBER-Patents.node.y.f32.bin\r\n",
      "253M\ttotal\r\n"
     ]
    }
   ],
   "source": [
    "!du -ch /mnt/seenas2/data/_backup_sinai/home/thobson2/src/GraphShaders/examples/NBER-Patents/data/*.bin"
   ]
  },
  {
   "cell_type": "code",
   "execution_count": 28,
   "id": "7cc6609f",
   "metadata": {},
   "outputs": [
    {
     "name": "stdout",
     "output_type": "stream",
     "text": [
      "array(shape=(23644705,), dtype=dtype([('i', '<u4'), ('j', '<u4')]))\n"
     ]
    }
   ],
   "source": [
    "@run(after=lambda x: print(f'array(shape={x.shape!r}, dtype={x.dtype!r})'))\n",
    "def edge():\n",
    "    home = auto.pathlib.Path('/mnt/seenas2/data/_backup_sinai/home/thobson2')\n",
    "    \n",
    "    return auto.numpy.memmap(\n",
    "        home / 'src/GraphShaders/examples/NBER-Patents/data/NBER-Patents.edge.element.2u32.bin',\n",
    "        dtype=[ ('i', 'u4'), ('j', 'u4') ],\n",
    "    )"
   ]
  },
  {
   "cell_type": "code",
   "execution_count": 26,
   "id": "41b5b7d4",
   "metadata": {},
   "outputs": [
    {
     "name": "stdout",
     "output_type": "stream",
     "text": [
      "array(shape=(3149407,), dtype=dtype([('x', '<f4')]))\n"
     ]
    }
   ],
   "source": [
    "@run(after=lambda x: print(f'array(shape={x.shape!r}, dtype={x.dtype!r})'))\n",
    "def xpos():\n",
    "    home = auto.pathlib.Path('/mnt/seenas2/data/_backup_sinai/home/thobson2')\n",
    "    \n",
    "    return auto.numpy.memmap(\n",
    "        home / 'src/GraphShaders/examples/NBER-Patents/data/NBER-Patents.node.x.f32.bin',\n",
    "        dtype=[ ('x', 'f4') ],\n",
    "    )"
   ]
  },
  {
   "cell_type": "code",
   "execution_count": 27,
   "id": "63a9d2dd",
   "metadata": {},
   "outputs": [
    {
     "name": "stdout",
     "output_type": "stream",
     "text": [
      "array(shape=(3149407,), dtype=dtype([('y', '<f4')]))\n"
     ]
    }
   ],
   "source": [
    "@run(after=lambda x: print(f'array(shape={x.shape!r}, dtype={x.dtype!r})'))\n",
    "def ypos():\n",
    "    home = auto.pathlib.Path('/mnt/seenas2/data/_backup_sinai/home/thobson2')\n",
    "    \n",
    "    return auto.numpy.memmap(\n",
    "        home / 'src/GraphShaders/examples/NBER-Patents/data/NBER-Patents.node.y.f32.bin',\n",
    "        dtype=[ ('y', 'f4') ],\n",
    "    )"
   ]
  },
  {
   "cell_type": "code",
   "execution_count": 33,
   "id": "72d56602",
   "metadata": {},
   "outputs": [
    {
     "name": "stdout",
     "output_type": "stream",
     "text": [
      "(0.0, 1.0)\n",
      "(0.0, 1.0)\n"
     ]
    }
   ],
   "source": [
    "@run(after=print)\n",
    "def xdom(xpos, /):\n",
    "    xmin = xpos['x'].min()\n",
    "    xmax = xpos['x'].max()\n",
    "    return xmin, xmax\n",
    "\n",
    "@run(after=print)\n",
    "def ydom(ypos, /):\n",
    "    ymin = ypos['y'].min()\n",
    "    ymax = ypos['y'].max()\n",
    "    return ymin, ymax\n"
   ]
  },
  {
   "cell_type": "code",
   "execution_count": null,
   "id": "7898bf62",
   "metadata": {},
   "outputs": [
    {
     "name": "stderr",
     "output_type": "stream",
     "text": [
      "/tmp/ipykernel_13509/510893039.py:48: RuntimeWarning: divide by zero encountered in divide\n",
      "  slope = shape((NE,),   auto.numpy.divide(dy, dx))\n",
      "/tmp/ipykernel_13509/510893039.py:48: RuntimeWarning: invalid value encountered in divide\n",
      "  slope = shape((NE,),   auto.numpy.divide(dy, dx))\n",
      "/tmp/ipykernel_13509/510893039.py:53: RuntimeWarning: divide by zero encountered in divide\n",
      "  nx = shape((NE, NB),   (box['ylo'][None, :] - iy[:, None]) / slope[:, None] + ix[:, None])\n",
      "/tmp/ipykernel_13509/510893039.py:55: RuntimeWarning: divide by zero encountered in divide\n",
      "  sx = shape((NE, NB),   (box['yhi'][None, :] - iy[:, None]) / slope[:, None] + ix[:, None])\n"
     ]
    }
   ],
   "source": [
    "@run\n",
    "def __test_filter(edge, xpos, ypos, /):\n",
    "#     edge = edge[:10]\n",
    "    \n",
    "    box = auto.numpy.zeros(\n",
    "        shape=(1,),\n",
    "        dtype=[ ('xlo', 'f4'), ('ylo', 'f4'), ('xhi', 'f4'), ('yhi', 'f4') ],\n",
    "    )\n",
    "    box['xlo'][0] = 0.25\n",
    "    box['ylo'][0] = 0.25\n",
    "    box['xhi'][0] = 0.50\n",
    "    box['yhi'][0] = 0.50\n",
    "    \n",
    "    def shape(shape: tuple[int, ...], y: auto.numpy.NDArray):\n",
    "        assert isinstance(shape, tuple)\n",
    "        assert shape == y.shape, \\\n",
    "            f\"\"\"Expected {shape=!r}; Got shape={y.shape!r}\"\"\"\n",
    "        return y\n",
    "    \n",
    "    \n",
    "    #---\n",
    "    \n",
    "    assert auto.numpy.all(box['xlo'] < box['xhi'])\n",
    "    assert auto.numpy.all(box['ylo'] < box['yhi'])\n",
    "    \n",
    "    NV = xpos.shape[0]\n",
    "    NE = edge.shape[0]\n",
    "    NB = box.shape[0]\n",
    "    \n",
    "    xgt = shape((NV, NB),   xpos['x'][:, None] >= box['xlo'][None, :])\n",
    "    xlt = shape((NV, NB),   xpos['x'][:, None] <= box['xhi'][None, :])\n",
    "    ygt = shape((NV, NB),   ypos['y'][:, None] >= box['ylo'][None, :])\n",
    "    ylt = shape((NV, NB),   ypos['y'][:, None] <= box['yhi'][None, :])\n",
    "    \n",
    "    within = shape((NV, NB),   (xgt) & (xlt) & (ygt) & (ylt))\n",
    "    \n",
    "    ix = shape((NE,),   xpos['x'][edge['i']])\n",
    "    iy = shape((NE,),   ypos['y'][edge['i']])\n",
    "    jx = shape((NE,),   xpos['x'][edge['j']])\n",
    "    jy = shape((NE,),   ypos['y'][edge['j']])\n",
    "    iwithin = shape((NE, NB),   within[edge['i'], :])\n",
    "    jwithin = shape((NE, NB),   within[edge['j'], :])\n",
    "    \n",
    "    vertical = shape((NE,),   auto.numpy.isclose(ix, jx))\n",
    "    horizontal = shape((NE,),   auto.numpy.isclose(iy, jy))\n",
    "    dy = shape((NE,),   auto.numpy.subtract(jy, iy))\n",
    "    dx = shape((NE,),   auto.numpy.subtract(jx, ix))\n",
    "    slope = shape((NE,),   auto.numpy.divide(dy, dx))\n",
    "    \n",
    "    # Solve [ y - y0 = m * (x - x0) ] for [ x ] and [ y ]\n",
    "    #   x = (y - y0) / m + x0\n",
    "    #   y = m * (x - x0) + y0\n",
    "    nx = shape((NE, NB),   (box['ylo'][None, :] - iy[:, None]) / slope[:, None] + ix[:, None])\n",
    "    ey = shape((NE, NB),   (box['xhi'][None, :] - ix[:, None]) * slope[:, None] + iy[:, None])\n",
    "    sx = shape((NE, NB),   (box['yhi'][None, :] - iy[:, None]) / slope[:, None] + ix[:, None])\n",
    "    wy = shape((NE, NB),   (box['xlo'][None, :] - ix[:, None]) * slope[:, None] + ix[:, None])\n",
    "    \n",
    "    ninter = shape((NE, NB),   (box['xlo'] <= nx) & (nx <= box['xhi']))\n",
    "    einter = shape((NE, NB),   (box['ylo'] <= ey) & (ey <= box['yhi']))\n",
    "    sinter = shape((NE, NB),   (box['xlo'] <= sx) & (sx <= box['xhi']))\n",
    "    winter = shape((NE, NB),   (box['ylo'] <= wy) & (wy <= box['yhi']))\n",
    "    \n",
    "    inter = shape((NE, NB),   ninter | einter | sinter | winter)\n",
    "    \n",
    "    keep = shape((NE, NB),   iwithin | jwithin | inter)\n",
    "    \n",
    "    partitions: list[auto.numpy.ndarray] = []\n",
    "    edge = auto.numpy.lib.recfunctions.structured_to_unstructured(\n",
    "        edge,\n",
    "        dtype='u4',\n",
    "    )\n",
    "    for i in range(NB):\n",
    "        auto.numpy; import numpy.lib.recfunctions\n",
    "        partition = auto.numpy.select(keep[:, i], edge)\n",
    "        partition = auto.numpy.lib.recfunctions.unstructured_to_structured(\n",
    "            partition,\n",
    "            dtype=[ ('i', 'u4'), ('j', 'u4') ],\n",
    "        )\n",
    "        \n",
    "        print(f'box {i}: {partition.shape=!r}')\n",
    "    \n",
    "    return partitions\n",
    "        "
   ]
  },
  {
   "cell_type": "code",
   "execution_count": null,
   "id": "17935f58",
   "metadata": {},
   "outputs": [],
   "source": []
  }
 ],
 "metadata": {
  "kernelspec": {
   "display_name": "Python 3 (ipykernel)",
   "language": "python",
   "name": "python3"
  },
  "language_info": {
   "codemirror_mode": {
    "name": "ipython",
    "version": 3
   },
   "file_extension": ".py",
   "mimetype": "text/x-python",
   "name": "python",
   "nbconvert_exporter": "python",
   "pygments_lexer": "ipython3",
   "version": "3.10.12"
  },
  "toc": {
   "base_numbering": 1,
   "nav_menu": {},
   "number_sections": true,
   "sideBar": false,
   "skip_h1_title": false,
   "title_cell": "Table of Contents",
   "title_sidebar": "Contents",
   "toc_cell": false,
   "toc_position": {},
   "toc_section_display": true,
   "toc_window_display": false
  }
 },
 "nbformat": 4,
 "nbformat_minor": 5
}
